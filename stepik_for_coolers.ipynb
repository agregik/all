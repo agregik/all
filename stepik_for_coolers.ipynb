{
 "cells": [
  {
   "cell_type": "code",
   "execution_count": 6,
   "metadata": {},
   "outputs": [
    {
     "name": "stdout",
     "output_type": "stream",
     "text": [
      "4\n"
     ]
    }
   ],
   "source": [
    "nums = input().split()\n",
    "cnt = 0 \n",
    "nums_int = [int(i) for i in nums]\n",
    "for x in range(len(nums_int) - 1):\n",
    "    if nums_int[x] < nums_int[x + 1]:\n",
    "        cnt += 1\n",
    "print(cnt)\n",
    "\n"
   ]
  },
  {
   "cell_type": "code",
   "execution_count": 5,
   "metadata": {},
   "outputs": [
    {
     "name": "stdout",
     "output_type": "stream",
     "text": [
      "2 1 4 3 5\n"
     ]
    }
   ],
   "source": [
    "nums = input().split()\n",
    "nums_int = [int(i) for i in nums]\n",
    "for x in range(0,len(nums_int) - 1, 2):\n",
    "    nums_int[x], nums_int[x + 1] = nums_int[x + 1], nums_int[x]\n",
    "print(*nums_int)"
   ]
  },
  {
   "cell_type": "code",
   "execution_count": 7,
   "metadata": {},
   "outputs": [
    {
     "name": "stdout",
     "output_type": "stream",
     "text": [
      "[1, 2, 3, 4, 5]\n"
     ]
    }
   ],
   "source": [
    "nums = [int(i) for i in input().split()]\n",
    "for x in range(len(nums)):\n",
    "    nums.insert(0, nums[-1])\n",
    "    del nums[-1]\n",
    "print(nums)"
   ]
  },
  {
   "cell_type": "code",
   "execution_count": 10,
   "metadata": {},
   "outputs": [
    {
     "name": "stdout",
     "output_type": "stream",
     "text": [
      "5 1 2 3 4\n"
     ]
    }
   ],
   "source": [
    "x = [1,2,3,4,5]\n",
    "print(x[-1],*x[:-1])"
   ]
  },
  {
   "cell_type": "code",
   "execution_count": 11,
   "metadata": {},
   "outputs": [
    {
     "name": "stdout",
     "output_type": "stream",
     "text": [
      "2\n"
     ]
    }
   ],
   "source": [
    "nums = [int(i) for i in input().split()]\n",
    "cnt = 1\n",
    "for x in range(len(nums) - 1):\n",
    "    if nums[x] != nums[x + 1]:\n",
    "        cnt += 1\n",
    "print(cnt)"
   ]
  },
  {
   "cell_type": "code",
   "execution_count": 16,
   "metadata": {},
   "outputs": [
    {
     "name": "stdout",
     "output_type": "stream",
     "text": [
      "Руслан\n"
     ]
    }
   ],
   "source": [
    "a,b = input(),input()\n",
    "if a == b:\n",
    "    print('ничья')\n",
    "\n",
    "elif a == 'камень' and (b == 'ножницы' or b == 'ящерица') and (a != 'бумага' and a != 'Спок'):\n",
    "    print('Тимур')\n",
    "\n",
    "elif a == 'ножницы' and (b == 'бумага' or b == 'ящерица') and (a != 'камень' and a != 'Спок'):\n",
    "    print('Тимур')\n",
    "\n",
    "elif a == 'бумага' and (b == 'камень' or b == 'Спок') and (a != 'ножницы' and a != 'ящерица'):\n",
    "    print('Тимур')\n",
    "\n",
    "elif a == 'ящерица' and (b == 'Спок' or b == 'бумага') and (a != 'ножницы' and a != 'камень'):\n",
    "    print('Тимур')\n",
    "\n",
    "elif a == 'Спок' and (b == 'ножницы' or b == 'камень') and (a != 'ящерица' and a != 'бумага'):\n",
    "    print('Тимур')\n",
    "else:\n",
    "    print('Руслан')"
   ]
  },
  {
   "cell_type": "code",
   "execution_count": null,
   "metadata": {},
   "outputs": [],
   "source": [
    "graf = {'ножницы' : ['бумага', 'ящерица'], 'бумага' : ['камень', 'Спок'], 'камень' : ['ножницы', 'ящерица'], 'ящерица' : ['Спок', 'бумага'], 'Спок' : ['ножницы', 'камень']}\n",
    "a,b = input(), input()"
   ]
  },
  {
   "cell_type": "code",
   "execution_count": null,
   "metadata": {},
   "outputs": [],
   "source": [
    "nums = int(input())\n",
    "cnt_1 = 0 \n",
    "cnt_2 = 0 \n",
    "cnt_3 = 0 \n",
    "cnt_4 = 0 \n",
    "for _ in range(nums):\n",
    "    x,y = map(int,input().split())\n",
    "    if x > 0 and y > 0:\n",
    "        cnt_1 += 1\n",
    "    if x < 0 and y > 0:\n",
    "        cnt_2 += 1\n",
    "    if x < 0 and y < 0:\n",
    "        cnt_3 += 1\n",
    "    if x > 0 and y < 0:\n",
    "        cnt_4 += 1\n",
    "print(f'Первая четверть: {cnt_1}')\n",
    "print(f'Вторая четверть: {cnt_2}')\n",
    "print(f'Третья четверть: {cnt_3}')\n",
    "print(f'Четвертая четверть: {cnt_4}')"
   ]
  }
 ],
 "metadata": {
  "kernelspec": {
   "display_name": "Python 3",
   "language": "python",
   "name": "python3"
  },
  "language_info": {
   "codemirror_mode": {
    "name": "ipython",
    "version": 3
   },
   "file_extension": ".py",
   "mimetype": "text/x-python",
   "name": "python",
   "nbconvert_exporter": "python",
   "pygments_lexer": "ipython3",
   "version": "3.11.2"
  }
 },
 "nbformat": 4,
 "nbformat_minor": 2
}
